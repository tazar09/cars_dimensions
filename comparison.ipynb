{
  "nbformat": 4,
  "nbformat_minor": 0,
  "metadata": {
    "colab": {
      "provenance": [],
      "toc_visible": true,
      "authorship_tag": "ABX9TyP3ndYkGb1wY3+bAe8eSvx6",
      "include_colab_link": true
    },
    "kernelspec": {
      "name": "python3",
      "display_name": "Python 3"
    },
    "language_info": {
      "name": "python"
    }
  },
  "cells": [
    {
      "cell_type": "markdown",
      "metadata": {
        "id": "view-in-github",
        "colab_type": "text"
      },
      "source": [
        "<a href=\"https://colab.research.google.com/github/tazar09/cars_dimensions/blob/main/comparison.ipynb\" target=\"_parent\"><img src=\"https://colab.research.google.com/assets/colab-badge.svg\" alt=\"Open In Colab\"/></a>"
      ]
    },
    {
      "cell_type": "code",
      "source": [
        "import requests\n",
        "import pandas as pd\n",
        "from bs4 import BeautifulSoup"
      ],
      "metadata": {
        "id": "juJsU9ZssARm"
      },
      "execution_count": 47,
      "outputs": []
    },
    {
      "cell_type": "markdown",
      "source": [
        "# Scrapping the website"
      ],
      "metadata": {
        "id": "a9wLDWO-sSfB"
      }
    },
    {
      "cell_type": "code",
      "source": [
        "url = 'https://www.automobiledimension.com/compact-suv.php'\n",
        "h3 = requests.get(url, verify = False)\n",
        "html_content = h3.text"
      ],
      "metadata": {
        "id": "0K1U87w5nEvE"
      },
      "execution_count": 7,
      "outputs": []
    },
    {
      "cell_type": "markdown",
      "source": [
        "# Creating BeautifulSoup objects"
      ],
      "metadata": {
        "id": "jNGdfajhsY-i"
      }
    },
    {
      "cell_type": "code",
      "source": [
        "soup = BeautifulSoup(html_content, 'html.parser')"
      ],
      "metadata": {
        "id": "amlmY7IPwdd8"
      },
      "execution_count": 48,
      "outputs": []
    },
    {
      "cell_type": "code",
      "source": [
        "main_table = soup.find('main')"
      ],
      "metadata": {
        "id": "fiKHdpESwdjo"
      },
      "execution_count": 49,
      "outputs": []
    },
    {
      "cell_type": "code",
      "source": [],
      "metadata": {
        "id": "rbkAN4YpAVEh"
      },
      "execution_count": 102,
      "outputs": []
    },
    {
      "cell_type": "code",
      "source": [
        "address = []\n",
        "weblink = []\n",
        "for link in links:\n",
        "  href_value = link.get('href')\n",
        "  if href_value and href_value.startswith('/'):\n",
        "    address.append(link.get('href'))\n",
        "address[0:3]"
      ],
      "metadata": {
        "colab": {
          "base_uri": "https://localhost:8080/"
        },
        "id": "FLeTRrqO_7Dg",
        "outputId": "968e85ae-e05a-4adb-e852-e7431d3f0326"
      },
      "execution_count": 135,
      "outputs": [
        {
          "output_type": "execute_result",
          "data": {
            "text/plain": [
              "['/model/ford/puma', '/model/audi/q2', '/model/nissan/juke']"
            ]
          },
          "metadata": {},
          "execution_count": 135
        }
      ]
    },
    {
      "cell_type": "code",
      "source": [
        "for i in address[0:20]:\n",
        "  weblink.append('https://www.automobiledimension.com' + i)"
      ],
      "metadata": {
        "id": "3s--3olbASmm"
      },
      "execution_count": 155,
      "outputs": []
    },
    {
      "cell_type": "code",
      "source": [
        "weblink"
      ],
      "metadata": {
        "id": "GYdITQIyNpYR"
      },
      "execution_count": null,
      "outputs": []
    },
    {
      "cell_type": "code",
      "source": [
        "models = []\n",
        "for i in weblink:\n",
        "  content = requests.get(i, verify = False)\n",
        "  content_text = BeautifulSoup(content.text, 'html.parser')\n",
        "  interior_text = content_text.find('div', class_ = 'interior-text')\n",
        "  if interior_text:\n",
        "    div_content = interior_text.text\n",
        "    models.append(div_content)\n",
        "  else:\n",
        "    pass\n"
      ],
      "metadata": {
        "colab": {
          "base_uri": "https://localhost:8080/",
          "height": 422
        },
        "id": "ts31clJZNqNv",
        "outputId": "0de05ca2-857f-4004-bcc1-7438625325da"
      },
      "execution_count": 159,
      "outputs": [
        {
          "output_type": "stream",
          "name": "stderr",
          "text": [
            "/usr/local/lib/python3.10/dist-packages/urllib3/connectionpool.py:1100: InsecureRequestWarning: Unverified HTTPS request is being made to host 'www.automobiledimension.com'. Adding certificate verification is strongly advised. See: https://urllib3.readthedocs.io/en/latest/advanced-usage.html#tls-warnings\n",
            "  warnings.warn(\n"
          ]
        },
        {
          "output_type": "error",
          "ename": "TypeError",
          "evalue": "object of type 'Response' has no len()",
          "traceback": [
            "\u001b[0;31m---------------------------------------------------------------------------\u001b[0m",
            "\u001b[0;31mTypeError\u001b[0m                                 Traceback (most recent call last)",
            "\u001b[0;32m<ipython-input-159-bca09f1c2221>\u001b[0m in \u001b[0;36m<cell line: 2>\u001b[0;34m()\u001b[0m\n\u001b[1;32m      2\u001b[0m \u001b[0;32mfor\u001b[0m \u001b[0mi\u001b[0m \u001b[0;32min\u001b[0m \u001b[0mweblink\u001b[0m\u001b[0;34m:\u001b[0m\u001b[0;34m\u001b[0m\u001b[0;34m\u001b[0m\u001b[0m\n\u001b[1;32m      3\u001b[0m   \u001b[0mcontent\u001b[0m \u001b[0;34m=\u001b[0m \u001b[0mrequests\u001b[0m\u001b[0;34m.\u001b[0m\u001b[0mget\u001b[0m\u001b[0;34m(\u001b[0m\u001b[0mi\u001b[0m\u001b[0;34m,\u001b[0m \u001b[0mverify\u001b[0m \u001b[0;34m=\u001b[0m \u001b[0;32mFalse\u001b[0m\u001b[0;34m)\u001b[0m\u001b[0;34m\u001b[0m\u001b[0;34m\u001b[0m\u001b[0m\n\u001b[0;32m----> 4\u001b[0;31m   \u001b[0mcontent_text\u001b[0m \u001b[0;34m=\u001b[0m \u001b[0mBeautifulSoup\u001b[0m\u001b[0;34m(\u001b[0m\u001b[0mcontent\u001b[0m\u001b[0;34m,\u001b[0m \u001b[0;34m'html.parser'\u001b[0m\u001b[0;34m)\u001b[0m\u001b[0;34m\u001b[0m\u001b[0;34m\u001b[0m\u001b[0m\n\u001b[0m\u001b[1;32m      5\u001b[0m   \u001b[0minterior_text\u001b[0m \u001b[0;34m=\u001b[0m \u001b[0mcontent_text\u001b[0m\u001b[0;34m.\u001b[0m\u001b[0mfind\u001b[0m\u001b[0;34m(\u001b[0m\u001b[0;34m'div'\u001b[0m\u001b[0;34m,\u001b[0m \u001b[0mclass_\u001b[0m \u001b[0;34m=\u001b[0m \u001b[0;34m'interior-text'\u001b[0m\u001b[0;34m)\u001b[0m\u001b[0;34m\u001b[0m\u001b[0;34m\u001b[0m\u001b[0m\n\u001b[1;32m      6\u001b[0m   \u001b[0;32mif\u001b[0m \u001b[0minterior_text\u001b[0m\u001b[0;34m:\u001b[0m\u001b[0;34m\u001b[0m\u001b[0;34m\u001b[0m\u001b[0m\n",
            "\u001b[0;32m/usr/local/lib/python3.10/dist-packages/bs4/__init__.py\u001b[0m in \u001b[0;36m__init__\u001b[0;34m(self, markup, features, builder, parse_only, from_encoding, exclude_encodings, element_classes, **kwargs)\u001b[0m\n\u001b[1;32m    311\u001b[0m         \u001b[0;32mif\u001b[0m \u001b[0mhasattr\u001b[0m\u001b[0;34m(\u001b[0m\u001b[0mmarkup\u001b[0m\u001b[0;34m,\u001b[0m \u001b[0;34m'read'\u001b[0m\u001b[0;34m)\u001b[0m\u001b[0;34m:\u001b[0m        \u001b[0;31m# It's a file-type object.\u001b[0m\u001b[0;34m\u001b[0m\u001b[0;34m\u001b[0m\u001b[0m\n\u001b[1;32m    312\u001b[0m             \u001b[0mmarkup\u001b[0m \u001b[0;34m=\u001b[0m \u001b[0mmarkup\u001b[0m\u001b[0;34m.\u001b[0m\u001b[0mread\u001b[0m\u001b[0;34m(\u001b[0m\u001b[0;34m)\u001b[0m\u001b[0;34m\u001b[0m\u001b[0;34m\u001b[0m\u001b[0m\n\u001b[0;32m--> 313\u001b[0;31m         elif len(markup) <= 256 and (\n\u001b[0m\u001b[1;32m    314\u001b[0m                 \u001b[0;34m(\u001b[0m\u001b[0misinstance\u001b[0m\u001b[0;34m(\u001b[0m\u001b[0mmarkup\u001b[0m\u001b[0;34m,\u001b[0m \u001b[0mbytes\u001b[0m\u001b[0;34m)\u001b[0m \u001b[0;32mand\u001b[0m \u001b[0;32mnot\u001b[0m \u001b[0;34mb'<'\u001b[0m \u001b[0;32min\u001b[0m \u001b[0mmarkup\u001b[0m\u001b[0;34m)\u001b[0m\u001b[0;34m\u001b[0m\u001b[0;34m\u001b[0m\u001b[0m\n\u001b[1;32m    315\u001b[0m                 \u001b[0;32mor\u001b[0m \u001b[0;34m(\u001b[0m\u001b[0misinstance\u001b[0m\u001b[0;34m(\u001b[0m\u001b[0mmarkup\u001b[0m\u001b[0;34m,\u001b[0m \u001b[0mstr\u001b[0m\u001b[0;34m)\u001b[0m \u001b[0;32mand\u001b[0m \u001b[0;32mnot\u001b[0m \u001b[0;34m'<'\u001b[0m \u001b[0;32min\u001b[0m \u001b[0mmarkup\u001b[0m\u001b[0;34m)\u001b[0m\u001b[0;34m\u001b[0m\u001b[0;34m\u001b[0m\u001b[0m\n",
            "\u001b[0;31mTypeError\u001b[0m: object of type 'Response' has no len()"
          ]
        }
      ]
    },
    {
      "cell_type": "code",
      "source": [
        "models"
      ],
      "metadata": {
        "colab": {
          "base_uri": "https://localhost:8080/"
        },
        "id": "PjjrpRGvOmVc",
        "outputId": "c3983588-87c0-4f5a-d45c-16b7005be3ac"
      },
      "execution_count": 158,
      "outputs": [
        {
          "output_type": "execute_result",
          "data": {
            "text/plain": [
              "['The Ford Puma has a length of 4207 mm, a height of 1537 mm, a width of 1805 mm without the exterior mirrors and a measurement of 1930 millimeters with the mirrors unfolded. Motorization: petrol and  petrol mild hybrid. The mild hybrid model is called Puma Ecoboost Hybrid and has a boot space of 401* liters. Because of its size, features and ground clearance of 16 cm, we classify the Ford Puma in the category of compact SUV.Do you like the trend of larger cars? 👍 👎',\n",
              " 'The Audi Q2 has a length of 4208 mm, a height of 1508 mm, a width of 1794 mm without the exterior mirrors and a measurement of 2009 millimeters with the mirrors unfolded. Motorization: diesel and  petrol. Because of its size, features and ground clearance of 15 cm, we classify the Audi Q2 in the category of compact SUV. This model from the year 2021 is the same size compared to the dimensions of the 2016 Audi Q2.Do you like the trend of larger cars? 👍 👎',\n",
              " 'The Nissan Juke has a length of 4210 mm, a height of 1595 mm, a width of 1800 mm without the exterior mirrors and a measurement of 1983 millimeters with the mirrors unfolded. Motorization: petrol and  petrol hybrid. The hybrid model is called Juke Hybrid and has a boot space of 354* liters. Because of its size, features and ground clearance of 17 cm, we classify the Nissan Juke in the category of compact SUV. This model from the year 2020  stands out for being 75 mm longer compared to the dimensions of the 2014 Nissan Juke.Do you like the new generation size change? 👍 👎',\n",
              " 'The Ford Puma has a length of 4207 mm, a height of 1537 mm, a width of 1805 mm without the exterior mirrors and a measurement of 1930 millimeters with the mirrors unfolded. Motorization: petrol and  petrol mild hybrid. The mild hybrid model is called Puma Ecoboost Hybrid and has a boot space of 401* liters. Because of its size, features and ground clearance of 16 cm, we classify the Ford Puma in the category of compact SUV.Do you like the trend of larger cars? 👍 👎',\n",
              " 'The Audi Q2 has a length of 4208 mm, a height of 1508 mm, a width of 1794 mm without the exterior mirrors and a measurement of 2009 millimeters with the mirrors unfolded. Motorization: diesel and  petrol. Because of its size, features and ground clearance of 15 cm, we classify the Audi Q2 in the category of compact SUV. This model from the year 2021 is the same size compared to the dimensions of the 2016 Audi Q2.Do you like the trend of larger cars? 👍 👎',\n",
              " 'The Nissan Juke has a length of 4210 mm, a height of 1595 mm, a width of 1800 mm without the exterior mirrors and a measurement of 1983 millimeters with the mirrors unfolded. Motorization: petrol and  petrol hybrid. The hybrid model is called Juke Hybrid and has a boot space of 354* liters. Because of its size, features and ground clearance of 17 cm, we classify the Nissan Juke in the category of compact SUV. This model from the year 2020  stands out for being 75 mm longer compared to the dimensions of the 2014 Nissan Juke.Do you like the new generation size change? 👍 👎',\n",
              " 'The Opel Crossland has a length of 4212 mm, a height of 1605 mm, a width of 1765 mm without the exterior mirrors and a measurement of 1976 millimeters with the mirrors unfolded. The boot capacity varies between 410 - 520 liters depending on the position of the 15 centimeters sliding rear seats, to allow more space for the second-row passengers or luggage volume. Motorization: diesel and  petrol. Because of its size, features and ground clearance of 17 cm, we classify the Opel Crossland in the category of compact SUV. This model from the year 2021 is the same size compared to the dimensions of the 2017 Opel Crossland X.Do you like the trend of larger cars? 👍 👎',\n",
              " 'The SsangYong Tivoli has a length of 4225 mm, a height of 1621 mm and a width of 1810 mm without the exterior mirrors. Motorization: petrol. Because of its size, features and ground clearance of 18 cm, we classify the SsangYong Tivoli in the category of compact SUV. This model from the year 2020 is 23 mm longer, 12 mm wider and 21 mm higher compared to the dimensions of the 2018 SsangYong Tivoli.Do you like the trend of larger cars? 👍 👎',\n",
              " 'The Renault Captur has a length of 4227 mm, a height of 1566 mm, a width of 1797 mm without the exterior mirrors and a measurement of 2003 millimeters with the mirrors unfolded. The boot capacity varies between 406 - 520 liters depending on the position of the 16 centimeters sliding rear seats, to allow more space for the second-row passengers or luggage volume. Motorization: petrol,  petrol mild hybrid,  petrol hybrid and  petrol plug-in hybrid. The hybrid model is called Captur E-TECH Hybrid and has a boot space of 305* liters. The plug-in hybrid model is called Captur E-TECH Plug-in and has a boot space of 265* liters. Because of its size, features and ground clearance of 17 cm, we classify the Renault Captur in the category of compact SUV. This model from the year 2020  stands out for being 105 mm longer compared to the dimensions of the 2017 Renault Captur.Do you like the new generation size change? 👍 👎',\n",
              " 'The Mitsubishi ASX has a length of 4227 mm, a height of 1566 mm, a width of 1797 mm without the exterior mirrors and a measurement of 2003 millimeters with the mirrors unfolded. The boot capacity varies depending on the position of the 16 centimeters sliding rear seats, to allow more space for the second-row passengers or luggage volume. Motorization: petrol,  petrol mild hybrid,  petrol hybrid and  petrol plug-in hybrid. The hybrid model has a boot space of 305* liters. The plug-in hybrid model has a boot space of 265* liters. Because of its size, features and ground clearance of 17 cm, we classify the Mitsubishi ASX in the category of compact SUV. This model from the year 2023  stands out for being 138 mm shorter compared to the dimensions of the 2020 Mitsubishi ASX.Do you like the trend of larger cars? 👍 👎',\n",
              " 'The Volvo EX30 has a length of 4233 mm, a height of 1549 mm, a width of 1836 mm without the exterior mirrors and a measurement of 2032 millimeters with the mirrors unfolded. Motorization: electric. Because of its size, features and ground clearance of 17 cm, we classify the Volvo EX30 in the category of compact SUV.Do you like the trend of larger cars? 👍 👎',\n",
              " 'The Jeep Renegade has a length of 4236 mm, a height of 1697 mm and a width of 1805 mm without the exterior mirrors. Motorization: diesel,  petrol,  petrol mild hybrid and  petrol plug-in hybrid. The mild hybrid model is called Renegade e-Hybrid and has a boot space of 351* liters. The plug-in hybrid model is called Renegade 4xe and has a boot space of 330* liters. Because of its size, features and ground clearance of 17 cm, we classify the Jeep Renegade in the category of compact SUV. This model from the year 2019 is the same size compared to the dimensions of the 2015 Jeep Renegade.Do you like the trend of larger cars? 👍 👎',\n",
              " 'The Volkswagen T-Roc has a length of 4236 mm, a height of 1573 mm, a width of 1819 mm without the exterior mirrors and a measurement of 2012 millimeters with the mirrors unfolded. Motorization: diesel and  petrol. Because of its size, features and ground clearance of 16 cm, we classify the Volkswagen T-Roc in the category of compact SUV. This model from the year 2022 is the same size compared to the dimensions of the 2018 Volkswagen T-Roc.Do you like the trend of larger cars? 👍 👎',\n",
              " 'The Skoda Kamiq has a length of 4241 mm, a height of 1553 mm, a width of 1793 mm without the exterior mirrors and a measurement of 1988 millimeters with the mirrors unfolded. Motorization: petrol. Because of its size, features and ground clearance of 18 cm, we classify the Skoda Kamiq in the category of compact SUV. This new model is the same size compared to the dimensions of the 2020 Skoda Kamiq.Do you like the trend of larger cars? 👍 👎',\n",
              " 'The Fiat 500X has a length of 4264 mm, a height of 1595 mm, a width of 1796 mm without the exterior mirrors and a measurement of 2025 millimeters with the mirrors unfolded. Motorization: diesel,  petrol and  petrol mild hybrid. Because of its size, features and ground clearance of 16 cm, we classify the Fiat 500X in the category of compact SUV. This model from the year 2019 is 9 mm shorter, has the same width and 13 mm lower compared to the dimensions of the 2015 Fiat 500X.Do you like the trend of larger cars? 👍 👎',\n",
              " 'The Smart #1 has a length of 4270 mm, a height of 1636 mm and a width of 1822 mm without the exterior mirrors. The boot capacity varies between 288 - 426 liters depending on the position of the 13 centimeters sliding rear seats, to allow more space for the second-row passengers or luggage volume. Motorization: electric. Because of its size, features and ground clearance, we classify the Smart #1 in the category of compact SUV.Do you like the trend of larger cars? 👍 👎',\n",
              " 'The Volkswagen Taigo has a length of 4271 mm, a height of 1515 mm, a width of 1757 mm without the exterior mirrors and a measurement of 1995 millimeters with the mirrors unfolded. Motorization: petrol. Because of its size, features and ground clearance, we classify the Volkswagen Taigo in the category of compact SUV.Do you like the trend of larger cars? 👍 👎',\n",
              " 'The Suzuki S-Cross has a length of 4300 mm, a height of 1585 mm and a width of 1785 mm without the exterior mirrors. Motorization: petrol mild hybrid. Because of its size, features and ground clearance of 18 cm, we classify the Suzuki S-Cross in the category of compact SUV. This model from the year 2022 is the same size compared to the dimensions of the 2016 Suzuki S-Cross.Do you like the trend of larger cars? 👍 👎',\n",
              " 'The Peugeot 2008 has a length of 4304 mm, a height of 1550 mm, a width of 1770 mm without the exterior mirrors and a measurement of 1987 millimeters with the mirrors unfolded. Motorization: diesel,  petrol and  electric. The electric model is called e-2008 and has a boot space of 405* liters. Because of its size, features and ground clearance of 17 cm, we classify the Peugeot 2008 in the category of compact SUV. This model from the year 2023 is the same size compared to the dimensions of the 2020 Peugeot 2008.Do you like the trend of larger cars? 👍 👎',\n",
              " 'The MG ZS has a length of 4323 mm, a height of 1653 mm, a width of 1809 mm without the exterior mirrors and a measurement of 2048 millimeters with the mirrors unfolded. Motorization: petrol and  electric. Because of its size, features and ground clearance of 16 cm, we classify the MG ZS in the category of compact SUV. This model from the year 2022 is the same size compared to the dimensions of the 2020 MG ZS EV.Do you like the trend of larger cars? 👍 👎',\n",
              " 'The Dacia Duster has a length of 4340 mm, a height of 1660 mm, a width of 1810 mm without the exterior mirrors and a measurement of 2060 millimeters with the mirrors unfolded. Motorization: petrol mild hybrid and  petrol hybrid. Because of its size, features and ground clearance of 21 cm, we classify the Dacia Duster in the category of compact SUV. This new model has the same length, 6 mm wider and 33 mm lower compared to the dimensions of the 2022 Dacia Duster.Do you like the trend of larger cars? 👍 👎',\n",
              " 'The Honda HR-V has a length of 4340 mm, a height of 1582 mm, a width of 1790 mm without the exterior mirrors and a measurement of 2028 millimeters with the mirrors unfolded. Motorization: petrol hybrid. Because of its size, features and ground clearance of 19 cm, we classify the Honda HR-V in the category of compact SUV. This model from the year 2022 is 5 mm longer, 18 mm wider and 23 mm lower compared to the dimensions of the 2019 Honda HR-V.Do you like the trend of larger cars? 👍 👎',\n",
              " 'The Toyota C-HR has a length of 4360 mm, a height of 1570 mm and a width of 1830 mm without the exterior mirrors. Motorization: petrol hybrid and  petrol plug-in hybrid. The plug-in hybrid model has a boot space of 310* liters. Because of its size, features and ground clearance, we classify the Toyota C-HR in the category of compact SUV. This new model is 30 mm shorter, 35 mm wider and 15 mm higher compared to the dimensions of the 2020 Toyota C-HR.Do you like the trend of larger cars? 👍 👎']"
            ]
          },
          "metadata": {},
          "execution_count": 158
        }
      ]
    },
    {
      "cell_type": "code",
      "source": [],
      "metadata": {
        "id": "AgT1qVdTPDza"
      },
      "execution_count": null,
      "outputs": []
    }
  ]
}