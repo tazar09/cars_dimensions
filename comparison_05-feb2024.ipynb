{
  "nbformat": 4,
  "nbformat_minor": 0,
  "metadata": {
    "colab": {
      "provenance": [],
      "toc_visible": true,
      "include_colab_link": true
    },
    "kernelspec": {
      "name": "python3",
      "display_name": "Python 3"
    },
    "language_info": {
      "name": "python"
    }
  },
  "cells": [
    {
      "cell_type": "markdown",
      "metadata": {
        "id": "view-in-github",
        "colab_type": "text"
      },
      "source": [
        "<a href=\"https://colab.research.google.com/github/tazar09/cars_dimensions/blob/main/comparison_05-feb2024.ipynb\" target=\"_parent\"><img src=\"https://colab.research.google.com/assets/colab-badge.svg\" alt=\"Open In Colab\"/></a>"
      ]
    },
    {
      "cell_type": "code",
      "source": [
        "import requests\n",
        "import pandas as pd\n",
        "from bs4 import BeautifulSoup\n",
        "import re\n",
        "import numpy as np\n",
        "\n",
        "import warnings\n",
        "warnings.filterwarnings('ignore')"
      ],
      "metadata": {
        "id": "juJsU9ZssARm"
      },
      "execution_count": 152,
      "outputs": []
    },
    {
      "cell_type": "markdown",
      "source": [
        "# Scrapping the website"
      ],
      "metadata": {
        "id": "a9wLDWO-sSfB"
      }
    },
    {
      "cell_type": "code",
      "source": [
        "url = 'https://www.automobiledimension.com/compact-suv.php'\n",
        "h3 = requests.get(url, verify = False)\n",
        "html_content = h3.text"
      ],
      "metadata": {
        "id": "0K1U87w5nEvE"
      },
      "execution_count": 2,
      "outputs": []
    },
    {
      "cell_type": "markdown",
      "source": [
        "# Creating BeautifulSoup objects"
      ],
      "metadata": {
        "id": "jNGdfajhsY-i"
      }
    },
    {
      "cell_type": "code",
      "source": [
        "soup = BeautifulSoup(html_content, 'html.parser')\n",
        "main_table = soup.find('main')"
      ],
      "metadata": {
        "id": "amlmY7IPwdd8"
      },
      "execution_count": 3,
      "outputs": []
    },
    {
      "cell_type": "code",
      "source": [
        "temp_list = []\n",
        "for i in main_table.find_all('div', class_ = 'unit'):\n",
        "  link = str(i.a['href'])\n",
        "  temp_list.append('https://www.automobiledimension.com' + link)\n",
        "temp_list[0:3]"
      ],
      "metadata": {
        "id": "hm-S4Txgn_a4",
        "outputId": "67441ca5-805a-40b5-8fa8-2b79f7015922",
        "colab": {
          "base_uri": "https://localhost:8080/"
        }
      },
      "execution_count": 4,
      "outputs": [
        {
          "output_type": "execute_result",
          "data": {
            "text/plain": [
              "['https://www.automobiledimension.com/model/ford/puma',\n",
              " 'https://www.automobiledimension.com/model/audi/q2',\n",
              " 'https://www.automobiledimension.com/model/nissan/juke']"
            ]
          },
          "metadata": {},
          "execution_count": 4
        }
      ]
    },
    {
      "cell_type": "markdown",
      "source": [
        "# Extract model description"
      ],
      "metadata": {
        "id": "FQxngAORxudV"
      }
    },
    {
      "cell_type": "code",
      "source": [
        "def extract_main_text(text):\n",
        "  search = text.find('div', class_ = 'interior-text')\n",
        "  return search.text"
      ],
      "metadata": {
        "id": "pSYnsADIm8-2"
      },
      "execution_count": 5,
      "outputs": []
    },
    {
      "cell_type": "code",
      "source": [
        "def extract_boot_space(text):\n",
        "  search = text.find_all('figcaption')[1]\n",
        "  boot_space = search.text\n",
        "  return boot_space"
      ],
      "metadata": {
        "id": "229HFXm7xRyG"
      },
      "execution_count": 6,
      "outputs": []
    },
    {
      "cell_type": "code",
      "source": [
        "main_text_list = []\n",
        "boot_space_list = []\n",
        "for i in temp_list:\n",
        "  content = requests.get(i, verify = False)\n",
        "  content = BeautifulSoup(content.text, 'html.parser')\n",
        "  main_text_list.append(extract_main_text(content))\n",
        "  boot_space_list.append(extract_boot_space(content))"
      ],
      "metadata": {
        "id": "hxdPdkCzqthn"
      },
      "execution_count": 8,
      "outputs": []
    },
    {
      "cell_type": "markdown",
      "source": [
        "# Creating dataframe"
      ],
      "metadata": {
        "id": "-GsNNWDWyB7a"
      }
    },
    {
      "cell_type": "code",
      "source": [
        "df = pd.DataFrame({'description': main_text_list, 'boot_space': boot_space_list})"
      ],
      "metadata": {
        "id": "SteROwS7m9OU"
      },
      "execution_count": null,
      "outputs": []
    },
    {
      "cell_type": "code",
      "source": [
        "def average(text):\n",
        "  min, max = text.split('-')\n",
        "  average = (int(max) + int(min))/2\n",
        "  return average, int(min)"
      ],
      "metadata": {
        "id": "HQcb1RYfzo-N"
      },
      "execution_count": 335,
      "outputs": []
    },
    {
      "cell_type": "code",
      "source": [
        "df['boot_space'] = df['boot_space'].str.replace('Boot space: ', '')\n",
        "df['boot_space'] = df['boot_space'].str.replace(' liters.','')\n",
        "df['boot_space'] = df['boot_space'].apply(lambda x: x.replace('* - ', '-') if len(x)>3 else x)"
      ],
      "metadata": {
        "id": "fkzBpd_vxAn7"
      },
      "execution_count": 336,
      "outputs": []
    },
    {
      "cell_type": "code",
      "source": [
        "df['boot_mean'] = df['boot_space'].apply(lambda x: average(x)[0] if len(x) > 3 else int(x))\n",
        "df['boot_normal'] = df['boot_space'].apply(lambda x: average(x)[1] if len(x) > 3 else int(x))\n"
      ],
      "metadata": {
        "id": "MjDzKAIUxWM6"
      },
      "execution_count": 337,
      "outputs": []
    },
    {
      "cell_type": "code",
      "source": [
        "df.drop('boot_space', axis = 1, inplace = True)"
      ],
      "metadata": {
        "id": "3a4JiVNfy58j"
      },
      "execution_count": 338,
      "outputs": []
    },
    {
      "cell_type": "code",
      "source": [
        "df.head()"
      ],
      "metadata": {
        "id": "QeHFafRwzTad",
        "outputId": "c988fddb-466d-487e-ccad-b5ca1c2d2f92",
        "colab": {
          "base_uri": "https://localhost:8080/",
          "height": 206
        }
      },
      "execution_count": 339,
      "outputs": [
        {
          "output_type": "execute_result",
          "data": {
            "text/plain": [
              "                                         description  boot_mean  boot_normal\n",
              "0  The Ford Puma has a length of 4207 mm, a heigh...      428.5          401\n",
              "1  The Audi Q2 has a length of 4208 mm, a height ...      405.0          405\n",
              "2  The Nissan Juke has a length of 4210 mm, a hei...      388.0          354\n",
              "3  The Opel Crossland has a length of 4212 mm, a ...      410.0          410\n",
              "4  The SsangYong Tivoli has a length of 4225 mm, ...      427.0          427"
            ],
            "text/html": [
              "\n",
              "  <div id=\"df-ac98927e-4ec7-4ff9-9e30-f018f1f83a17\" class=\"colab-df-container\">\n",
              "    <div>\n",
              "<style scoped>\n",
              "    .dataframe tbody tr th:only-of-type {\n",
              "        vertical-align: middle;\n",
              "    }\n",
              "\n",
              "    .dataframe tbody tr th {\n",
              "        vertical-align: top;\n",
              "    }\n",
              "\n",
              "    .dataframe thead th {\n",
              "        text-align: right;\n",
              "    }\n",
              "</style>\n",
              "<table border=\"1\" class=\"dataframe\">\n",
              "  <thead>\n",
              "    <tr style=\"text-align: right;\">\n",
              "      <th></th>\n",
              "      <th>description</th>\n",
              "      <th>boot_mean</th>\n",
              "      <th>boot_normal</th>\n",
              "    </tr>\n",
              "  </thead>\n",
              "  <tbody>\n",
              "    <tr>\n",
              "      <th>0</th>\n",
              "      <td>The Ford Puma has a length of 4207 mm, a heigh...</td>\n",
              "      <td>428.5</td>\n",
              "      <td>401</td>\n",
              "    </tr>\n",
              "    <tr>\n",
              "      <th>1</th>\n",
              "      <td>The Audi Q2 has a length of 4208 mm, a height ...</td>\n",
              "      <td>405.0</td>\n",
              "      <td>405</td>\n",
              "    </tr>\n",
              "    <tr>\n",
              "      <th>2</th>\n",
              "      <td>The Nissan Juke has a length of 4210 mm, a hei...</td>\n",
              "      <td>388.0</td>\n",
              "      <td>354</td>\n",
              "    </tr>\n",
              "    <tr>\n",
              "      <th>3</th>\n",
              "      <td>The Opel Crossland has a length of 4212 mm, a ...</td>\n",
              "      <td>410.0</td>\n",
              "      <td>410</td>\n",
              "    </tr>\n",
              "    <tr>\n",
              "      <th>4</th>\n",
              "      <td>The SsangYong Tivoli has a length of 4225 mm, ...</td>\n",
              "      <td>427.0</td>\n",
              "      <td>427</td>\n",
              "    </tr>\n",
              "  </tbody>\n",
              "</table>\n",
              "</div>\n",
              "    <div class=\"colab-df-buttons\">\n",
              "\n",
              "  <div class=\"colab-df-container\">\n",
              "    <button class=\"colab-df-convert\" onclick=\"convertToInteractive('df-ac98927e-4ec7-4ff9-9e30-f018f1f83a17')\"\n",
              "            title=\"Convert this dataframe to an interactive table.\"\n",
              "            style=\"display:none;\">\n",
              "\n",
              "  <svg xmlns=\"http://www.w3.org/2000/svg\" height=\"24px\" viewBox=\"0 -960 960 960\">\n",
              "    <path d=\"M120-120v-720h720v720H120Zm60-500h600v-160H180v160Zm220 220h160v-160H400v160Zm0 220h160v-160H400v160ZM180-400h160v-160H180v160Zm440 0h160v-160H620v160ZM180-180h160v-160H180v160Zm440 0h160v-160H620v160Z\"/>\n",
              "  </svg>\n",
              "    </button>\n",
              "\n",
              "  <style>\n",
              "    .colab-df-container {\n",
              "      display:flex;\n",
              "      gap: 12px;\n",
              "    }\n",
              "\n",
              "    .colab-df-convert {\n",
              "      background-color: #E8F0FE;\n",
              "      border: none;\n",
              "      border-radius: 50%;\n",
              "      cursor: pointer;\n",
              "      display: none;\n",
              "      fill: #1967D2;\n",
              "      height: 32px;\n",
              "      padding: 0 0 0 0;\n",
              "      width: 32px;\n",
              "    }\n",
              "\n",
              "    .colab-df-convert:hover {\n",
              "      background-color: #E2EBFA;\n",
              "      box-shadow: 0px 1px 2px rgba(60, 64, 67, 0.3), 0px 1px 3px 1px rgba(60, 64, 67, 0.15);\n",
              "      fill: #174EA6;\n",
              "    }\n",
              "\n",
              "    .colab-df-buttons div {\n",
              "      margin-bottom: 4px;\n",
              "    }\n",
              "\n",
              "    [theme=dark] .colab-df-convert {\n",
              "      background-color: #3B4455;\n",
              "      fill: #D2E3FC;\n",
              "    }\n",
              "\n",
              "    [theme=dark] .colab-df-convert:hover {\n",
              "      background-color: #434B5C;\n",
              "      box-shadow: 0px 1px 3px 1px rgba(0, 0, 0, 0.15);\n",
              "      filter: drop-shadow(0px 1px 2px rgba(0, 0, 0, 0.3));\n",
              "      fill: #FFFFFF;\n",
              "    }\n",
              "  </style>\n",
              "\n",
              "    <script>\n",
              "      const buttonEl =\n",
              "        document.querySelector('#df-ac98927e-4ec7-4ff9-9e30-f018f1f83a17 button.colab-df-convert');\n",
              "      buttonEl.style.display =\n",
              "        google.colab.kernel.accessAllowed ? 'block' : 'none';\n",
              "\n",
              "      async function convertToInteractive(key) {\n",
              "        const element = document.querySelector('#df-ac98927e-4ec7-4ff9-9e30-f018f1f83a17');\n",
              "        const dataTable =\n",
              "          await google.colab.kernel.invokeFunction('convertToInteractive',\n",
              "                                                    [key], {});\n",
              "        if (!dataTable) return;\n",
              "\n",
              "        const docLinkHtml = 'Like what you see? Visit the ' +\n",
              "          '<a target=\"_blank\" href=https://colab.research.google.com/notebooks/data_table.ipynb>data table notebook</a>'\n",
              "          + ' to learn more about interactive tables.';\n",
              "        element.innerHTML = '';\n",
              "        dataTable['output_type'] = 'display_data';\n",
              "        await google.colab.output.renderOutput(dataTable, element);\n",
              "        const docLink = document.createElement('div');\n",
              "        docLink.innerHTML = docLinkHtml;\n",
              "        element.appendChild(docLink);\n",
              "      }\n",
              "    </script>\n",
              "  </div>\n",
              "\n",
              "\n",
              "<div id=\"df-90898a9d-2092-4168-b464-83992f6c3b6a\">\n",
              "  <button class=\"colab-df-quickchart\" onclick=\"quickchart('df-90898a9d-2092-4168-b464-83992f6c3b6a')\"\n",
              "            title=\"Suggest charts\"\n",
              "            style=\"display:none;\">\n",
              "\n",
              "<svg xmlns=\"http://www.w3.org/2000/svg\" height=\"24px\"viewBox=\"0 0 24 24\"\n",
              "     width=\"24px\">\n",
              "    <g>\n",
              "        <path d=\"M19 3H5c-1.1 0-2 .9-2 2v14c0 1.1.9 2 2 2h14c1.1 0 2-.9 2-2V5c0-1.1-.9-2-2-2zM9 17H7v-7h2v7zm4 0h-2V7h2v10zm4 0h-2v-4h2v4z\"/>\n",
              "    </g>\n",
              "</svg>\n",
              "  </button>\n",
              "\n",
              "<style>\n",
              "  .colab-df-quickchart {\n",
              "      --bg-color: #E8F0FE;\n",
              "      --fill-color: #1967D2;\n",
              "      --hover-bg-color: #E2EBFA;\n",
              "      --hover-fill-color: #174EA6;\n",
              "      --disabled-fill-color: #AAA;\n",
              "      --disabled-bg-color: #DDD;\n",
              "  }\n",
              "\n",
              "  [theme=dark] .colab-df-quickchart {\n",
              "      --bg-color: #3B4455;\n",
              "      --fill-color: #D2E3FC;\n",
              "      --hover-bg-color: #434B5C;\n",
              "      --hover-fill-color: #FFFFFF;\n",
              "      --disabled-bg-color: #3B4455;\n",
              "      --disabled-fill-color: #666;\n",
              "  }\n",
              "\n",
              "  .colab-df-quickchart {\n",
              "    background-color: var(--bg-color);\n",
              "    border: none;\n",
              "    border-radius: 50%;\n",
              "    cursor: pointer;\n",
              "    display: none;\n",
              "    fill: var(--fill-color);\n",
              "    height: 32px;\n",
              "    padding: 0;\n",
              "    width: 32px;\n",
              "  }\n",
              "\n",
              "  .colab-df-quickchart:hover {\n",
              "    background-color: var(--hover-bg-color);\n",
              "    box-shadow: 0 1px 2px rgba(60, 64, 67, 0.3), 0 1px 3px 1px rgba(60, 64, 67, 0.15);\n",
              "    fill: var(--button-hover-fill-color);\n",
              "  }\n",
              "\n",
              "  .colab-df-quickchart-complete:disabled,\n",
              "  .colab-df-quickchart-complete:disabled:hover {\n",
              "    background-color: var(--disabled-bg-color);\n",
              "    fill: var(--disabled-fill-color);\n",
              "    box-shadow: none;\n",
              "  }\n",
              "\n",
              "  .colab-df-spinner {\n",
              "    border: 2px solid var(--fill-color);\n",
              "    border-color: transparent;\n",
              "    border-bottom-color: var(--fill-color);\n",
              "    animation:\n",
              "      spin 1s steps(1) infinite;\n",
              "  }\n",
              "\n",
              "  @keyframes spin {\n",
              "    0% {\n",
              "      border-color: transparent;\n",
              "      border-bottom-color: var(--fill-color);\n",
              "      border-left-color: var(--fill-color);\n",
              "    }\n",
              "    20% {\n",
              "      border-color: transparent;\n",
              "      border-left-color: var(--fill-color);\n",
              "      border-top-color: var(--fill-color);\n",
              "    }\n",
              "    30% {\n",
              "      border-color: transparent;\n",
              "      border-left-color: var(--fill-color);\n",
              "      border-top-color: var(--fill-color);\n",
              "      border-right-color: var(--fill-color);\n",
              "    }\n",
              "    40% {\n",
              "      border-color: transparent;\n",
              "      border-right-color: var(--fill-color);\n",
              "      border-top-color: var(--fill-color);\n",
              "    }\n",
              "    60% {\n",
              "      border-color: transparent;\n",
              "      border-right-color: var(--fill-color);\n",
              "    }\n",
              "    80% {\n",
              "      border-color: transparent;\n",
              "      border-right-color: var(--fill-color);\n",
              "      border-bottom-color: var(--fill-color);\n",
              "    }\n",
              "    90% {\n",
              "      border-color: transparent;\n",
              "      border-bottom-color: var(--fill-color);\n",
              "    }\n",
              "  }\n",
              "</style>\n",
              "\n",
              "  <script>\n",
              "    async function quickchart(key) {\n",
              "      const quickchartButtonEl =\n",
              "        document.querySelector('#' + key + ' button');\n",
              "      quickchartButtonEl.disabled = true;  // To prevent multiple clicks.\n",
              "      quickchartButtonEl.classList.add('colab-df-spinner');\n",
              "      try {\n",
              "        const charts = await google.colab.kernel.invokeFunction(\n",
              "            'suggestCharts', [key], {});\n",
              "      } catch (error) {\n",
              "        console.error('Error during call to suggestCharts:', error);\n",
              "      }\n",
              "      quickchartButtonEl.classList.remove('colab-df-spinner');\n",
              "      quickchartButtonEl.classList.add('colab-df-quickchart-complete');\n",
              "    }\n",
              "    (() => {\n",
              "      let quickchartButtonEl =\n",
              "        document.querySelector('#df-90898a9d-2092-4168-b464-83992f6c3b6a button');\n",
              "      quickchartButtonEl.style.display =\n",
              "        google.colab.kernel.accessAllowed ? 'block' : 'none';\n",
              "    })();\n",
              "  </script>\n",
              "</div>\n",
              "    </div>\n",
              "  </div>\n"
            ]
          },
          "metadata": {},
          "execution_count": 339
        }
      ]
    },
    {
      "cell_type": "markdown",
      "source": [
        "# Extract dimensions"
      ],
      "metadata": {
        "id": "pBN1w4Iex4ka"
      }
    },
    {
      "cell_type": "code",
      "source": [
        "def extract_dim(text):\n",
        "  patterns = {\n",
        "  'name': r'The\\s+(.*?)\\s+has',\n",
        "  \"length\": r\"length\\s+of\\s+(\\d+)\\s+mm\",\n",
        "  'measurement': r'measurement\\s+of\\s+(\\d+)\\s+millimeters',\n",
        "  \"height\": r\"height\\s+of\\s+(\\d+)\\s+mm\",\n",
        "  \"width\": r\"width\\s+of\\s+(\\d+)\\s+mm\",\n",
        "  \"ground_clearance\": r\"ground\\s+clearance\\s+of\\s+(\\d+)\\s+cm\",\n",
        "  \"category\": r\"category\\s+of\\s+(.*?)\\.\"\n",
        "  }\n",
        "\n",
        "  car_info = {}\n",
        "\n",
        "  for key, pattern in patterns.items():\n",
        "    match = re.search(pattern, text)\n",
        "    if match:\n",
        "      car_info[key] = match.group(1) # Convert matched value to integer\n",
        "    else:\n",
        "      car_info[key] = None  # Set missing values to None\n",
        "\n",
        "  return list(car_info.values()), list(car_info.keys())"
      ],
      "metadata": {
        "id": "r9qW6F7x1Izs"
      },
      "execution_count": 340,
      "outputs": []
    },
    {
      "cell_type": "code",
      "source": [
        "columns = extract_dim(df['description'][0])[1]\n",
        "for i in columns:\n",
        "  df[i] = df['description'].apply(lambda x: extract_dim(x)[0][columns.index(i)])"
      ],
      "metadata": {
        "id": "2gq78Sybat2U"
      },
      "execution_count": 341,
      "outputs": []
    },
    {
      "cell_type": "code",
      "source": [
        "# reordering the columns\n",
        "\n",
        "df = df[['name', 'category','length', 'height',\n",
        "       'width','measurement', 'boot_normal', 'boot_mean', 'ground_clearance']]\n",
        "\n",
        "df.head()"
      ],
      "metadata": {
        "id": "KhEBZp4szaoA"
      },
      "execution_count": null,
      "outputs": []
    },
    {
      "cell_type": "code",
      "source": [
        "numeric_columns = df.columns[2:]\n",
        "for i in numeric_columns:\n",
        "  df[i] = df[i].apply(lambda x: np.NaN if (x == None) else int(x))"
      ],
      "metadata": {
        "id": "wCyjIdUVfVZ3"
      },
      "execution_count": 344,
      "outputs": []
    },
    {
      "cell_type": "markdown",
      "source": [
        "# Imputing missing values of measurement."
      ],
      "metadata": {
        "id": "xZ0qP6xrfV8d"
      }
    },
    {
      "cell_type": "code",
      "source": [
        "df['mirrors'] = (pd.to_numeric(df['measurement'], errors='coerce') - df['width']).fillna(np.NaN)"
      ],
      "metadata": {
        "id": "sHSFQaemfWCO"
      },
      "execution_count": null,
      "outputs": []
    },
    {
      "cell_type": "code",
      "source": [
        "df['mirror_rate'] = pd.to_numeric(df['mirrors'], errors = 'coerce') / df['width']\n",
        "df['measurement']  = df['measurement'].replace('', np.NaN)\n",
        "df['ground_clearance']  = df['ground_clearance'].replace('', np.NaN)\n",
        "df['boot_mean']  = df['boot_mean'].replace('None', np.NaN)\n",
        "df['boot_normal']  = df['boot_normal'].replace('None', np.NaN)"
      ],
      "metadata": {
        "id": "ZUwjYQVJmZGw"
      },
      "execution_count": 347,
      "outputs": []
    },
    {
      "cell_type": "code",
      "source": [
        "df['measurement'].fillna(round((df['width'] * (1+ df['mirror_rate'])), 0), inplace=True)"
      ],
      "metadata": {
        "id": "TrBVpLlE5v6h"
      },
      "execution_count": 348,
      "outputs": []
    },
    {
      "cell_type": "code",
      "source": [
        "df.sort_values('boot_normal', ascending = False).head(10)"
      ],
      "metadata": {
        "id": "SGfHDEL3ts2s",
        "outputId": "4e9ed749-6c71-4f4a-902a-de14976029f7",
        "colab": {
          "base_uri": "https://localhost:8080/",
          "height": 363
        }
      },
      "execution_count": 349,
      "outputs": [
        {
          "output_type": "execute_result",
          "data": {
            "text/plain": [
              "                             name      category  length  height  width  \\\n",
              "44         SsangYong Tivoli Grand   compact SUV    4480    1660   1810   \n",
              "39              SsangYong Korando   compact SUV    4450    1629   1870   \n",
              "51                 Hyundai Tucson   compact SUV    4500    1650   1865   \n",
              "25                    Skoda Karoq   compact SUV    4390    1603   1841   \n",
              "37                   Peugeot 3008  mid-size SUV    4542    1641   1895   \n",
              "21                     Seat Ateca   compact SUV    4381    1615   1841   \n",
              "50                         BMW X1   compact SUV    4500    1642   1845   \n",
              "22                    CUPRA Ateca   compact SUV    4386    1613   1841   \n",
              "34                 Nissan Qashqai   compact SUV    4425    1635   1838   \n",
              "20  Land-Rover Range Rover Evoque   compact SUV    4371    1649   1904   \n",
              "\n",
              "    measurement  boot_normal  boot_mean  ground_clearance  mirrors  \\\n",
              "44          NaN          574        574              17.0      NaN   \n",
              "39          NaN          551        551              17.0      NaN   \n",
              "51          NaN          546        572              17.0      NaN   \n",
              "25       2025.0          521        521              17.0    184.0   \n",
              "37       2108.0          520        520               NaN    213.0   \n",
              "21       2078.0          510        510              18.0    237.0   \n",
              "50       2104.0          490        515              20.0    259.0   \n",
              "22       2078.0          485        485              17.0    237.0   \n",
              "34       2084.0          480        480              18.0    246.0   \n",
              "20       2100.0          472        472              21.0    196.0   \n",
              "\n",
              "    mirror_rate  \n",
              "44          NaN  \n",
              "39          NaN  \n",
              "51          NaN  \n",
              "25     0.099946  \n",
              "37     0.112401  \n",
              "21     0.128734  \n",
              "50     0.140379  \n",
              "22     0.128734  \n",
              "34     0.133841  \n",
              "20     0.102941  "
            ],
            "text/html": [
              "\n",
              "  <div id=\"df-5cddd525-3254-4c0f-8f82-c60a69999620\" class=\"colab-df-container\">\n",
              "    <div>\n",
              "<style scoped>\n",
              "    .dataframe tbody tr th:only-of-type {\n",
              "        vertical-align: middle;\n",
              "    }\n",
              "\n",
              "    .dataframe tbody tr th {\n",
              "        vertical-align: top;\n",
              "    }\n",
              "\n",
              "    .dataframe thead th {\n",
              "        text-align: right;\n",
              "    }\n",
              "</style>\n",
              "<table border=\"1\" class=\"dataframe\">\n",
              "  <thead>\n",
              "    <tr style=\"text-align: right;\">\n",
              "      <th></th>\n",
              "      <th>name</th>\n",
              "      <th>category</th>\n",
              "      <th>length</th>\n",
              "      <th>height</th>\n",
              "      <th>width</th>\n",
              "      <th>measurement</th>\n",
              "      <th>boot_normal</th>\n",
              "      <th>boot_mean</th>\n",
              "      <th>ground_clearance</th>\n",
              "      <th>mirrors</th>\n",
              "      <th>mirror_rate</th>\n",
              "    </tr>\n",
              "  </thead>\n",
              "  <tbody>\n",
              "    <tr>\n",
              "      <th>44</th>\n",
              "      <td>SsangYong Tivoli Grand</td>\n",
              "      <td>compact SUV</td>\n",
              "      <td>4480</td>\n",
              "      <td>1660</td>\n",
              "      <td>1810</td>\n",
              "      <td>NaN</td>\n",
              "      <td>574</td>\n",
              "      <td>574</td>\n",
              "      <td>17.0</td>\n",
              "      <td>NaN</td>\n",
              "      <td>NaN</td>\n",
              "    </tr>\n",
              "    <tr>\n",
              "      <th>39</th>\n",
              "      <td>SsangYong Korando</td>\n",
              "      <td>compact SUV</td>\n",
              "      <td>4450</td>\n",
              "      <td>1629</td>\n",
              "      <td>1870</td>\n",
              "      <td>NaN</td>\n",
              "      <td>551</td>\n",
              "      <td>551</td>\n",
              "      <td>17.0</td>\n",
              "      <td>NaN</td>\n",
              "      <td>NaN</td>\n",
              "    </tr>\n",
              "    <tr>\n",
              "      <th>51</th>\n",
              "      <td>Hyundai Tucson</td>\n",
              "      <td>compact SUV</td>\n",
              "      <td>4500</td>\n",
              "      <td>1650</td>\n",
              "      <td>1865</td>\n",
              "      <td>NaN</td>\n",
              "      <td>546</td>\n",
              "      <td>572</td>\n",
              "      <td>17.0</td>\n",
              "      <td>NaN</td>\n",
              "      <td>NaN</td>\n",
              "    </tr>\n",
              "    <tr>\n",
              "      <th>25</th>\n",
              "      <td>Skoda Karoq</td>\n",
              "      <td>compact SUV</td>\n",
              "      <td>4390</td>\n",
              "      <td>1603</td>\n",
              "      <td>1841</td>\n",
              "      <td>2025.0</td>\n",
              "      <td>521</td>\n",
              "      <td>521</td>\n",
              "      <td>17.0</td>\n",
              "      <td>184.0</td>\n",
              "      <td>0.099946</td>\n",
              "    </tr>\n",
              "    <tr>\n",
              "      <th>37</th>\n",
              "      <td>Peugeot 3008</td>\n",
              "      <td>mid-size SUV</td>\n",
              "      <td>4542</td>\n",
              "      <td>1641</td>\n",
              "      <td>1895</td>\n",
              "      <td>2108.0</td>\n",
              "      <td>520</td>\n",
              "      <td>520</td>\n",
              "      <td>NaN</td>\n",
              "      <td>213.0</td>\n",
              "      <td>0.112401</td>\n",
              "    </tr>\n",
              "    <tr>\n",
              "      <th>21</th>\n",
              "      <td>Seat Ateca</td>\n",
              "      <td>compact SUV</td>\n",
              "      <td>4381</td>\n",
              "      <td>1615</td>\n",
              "      <td>1841</td>\n",
              "      <td>2078.0</td>\n",
              "      <td>510</td>\n",
              "      <td>510</td>\n",
              "      <td>18.0</td>\n",
              "      <td>237.0</td>\n",
              "      <td>0.128734</td>\n",
              "    </tr>\n",
              "    <tr>\n",
              "      <th>50</th>\n",
              "      <td>BMW X1</td>\n",
              "      <td>compact SUV</td>\n",
              "      <td>4500</td>\n",
              "      <td>1642</td>\n",
              "      <td>1845</td>\n",
              "      <td>2104.0</td>\n",
              "      <td>490</td>\n",
              "      <td>515</td>\n",
              "      <td>20.0</td>\n",
              "      <td>259.0</td>\n",
              "      <td>0.140379</td>\n",
              "    </tr>\n",
              "    <tr>\n",
              "      <th>22</th>\n",
              "      <td>CUPRA Ateca</td>\n",
              "      <td>compact SUV</td>\n",
              "      <td>4386</td>\n",
              "      <td>1613</td>\n",
              "      <td>1841</td>\n",
              "      <td>2078.0</td>\n",
              "      <td>485</td>\n",
              "      <td>485</td>\n",
              "      <td>17.0</td>\n",
              "      <td>237.0</td>\n",
              "      <td>0.128734</td>\n",
              "    </tr>\n",
              "    <tr>\n",
              "      <th>34</th>\n",
              "      <td>Nissan Qashqai</td>\n",
              "      <td>compact SUV</td>\n",
              "      <td>4425</td>\n",
              "      <td>1635</td>\n",
              "      <td>1838</td>\n",
              "      <td>2084.0</td>\n",
              "      <td>480</td>\n",
              "      <td>480</td>\n",
              "      <td>18.0</td>\n",
              "      <td>246.0</td>\n",
              "      <td>0.133841</td>\n",
              "    </tr>\n",
              "    <tr>\n",
              "      <th>20</th>\n",
              "      <td>Land-Rover Range Rover Evoque</td>\n",
              "      <td>compact SUV</td>\n",
              "      <td>4371</td>\n",
              "      <td>1649</td>\n",
              "      <td>1904</td>\n",
              "      <td>2100.0</td>\n",
              "      <td>472</td>\n",
              "      <td>472</td>\n",
              "      <td>21.0</td>\n",
              "      <td>196.0</td>\n",
              "      <td>0.102941</td>\n",
              "    </tr>\n",
              "  </tbody>\n",
              "</table>\n",
              "</div>\n",
              "    <div class=\"colab-df-buttons\">\n",
              "\n",
              "  <div class=\"colab-df-container\">\n",
              "    <button class=\"colab-df-convert\" onclick=\"convertToInteractive('df-5cddd525-3254-4c0f-8f82-c60a69999620')\"\n",
              "            title=\"Convert this dataframe to an interactive table.\"\n",
              "            style=\"display:none;\">\n",
              "\n",
              "  <svg xmlns=\"http://www.w3.org/2000/svg\" height=\"24px\" viewBox=\"0 -960 960 960\">\n",
              "    <path d=\"M120-120v-720h720v720H120Zm60-500h600v-160H180v160Zm220 220h160v-160H400v160Zm0 220h160v-160H400v160ZM180-400h160v-160H180v160Zm440 0h160v-160H620v160ZM180-180h160v-160H180v160Zm440 0h160v-160H620v160Z\"/>\n",
              "  </svg>\n",
              "    </button>\n",
              "\n",
              "  <style>\n",
              "    .colab-df-container {\n",
              "      display:flex;\n",
              "      gap: 12px;\n",
              "    }\n",
              "\n",
              "    .colab-df-convert {\n",
              "      background-color: #E8F0FE;\n",
              "      border: none;\n",
              "      border-radius: 50%;\n",
              "      cursor: pointer;\n",
              "      display: none;\n",
              "      fill: #1967D2;\n",
              "      height: 32px;\n",
              "      padding: 0 0 0 0;\n",
              "      width: 32px;\n",
              "    }\n",
              "\n",
              "    .colab-df-convert:hover {\n",
              "      background-color: #E2EBFA;\n",
              "      box-shadow: 0px 1px 2px rgba(60, 64, 67, 0.3), 0px 1px 3px 1px rgba(60, 64, 67, 0.15);\n",
              "      fill: #174EA6;\n",
              "    }\n",
              "\n",
              "    .colab-df-buttons div {\n",
              "      margin-bottom: 4px;\n",
              "    }\n",
              "\n",
              "    [theme=dark] .colab-df-convert {\n",
              "      background-color: #3B4455;\n",
              "      fill: #D2E3FC;\n",
              "    }\n",
              "\n",
              "    [theme=dark] .colab-df-convert:hover {\n",
              "      background-color: #434B5C;\n",
              "      box-shadow: 0px 1px 3px 1px rgba(0, 0, 0, 0.15);\n",
              "      filter: drop-shadow(0px 1px 2px rgba(0, 0, 0, 0.3));\n",
              "      fill: #FFFFFF;\n",
              "    }\n",
              "  </style>\n",
              "\n",
              "    <script>\n",
              "      const buttonEl =\n",
              "        document.querySelector('#df-5cddd525-3254-4c0f-8f82-c60a69999620 button.colab-df-convert');\n",
              "      buttonEl.style.display =\n",
              "        google.colab.kernel.accessAllowed ? 'block' : 'none';\n",
              "\n",
              "      async function convertToInteractive(key) {\n",
              "        const element = document.querySelector('#df-5cddd525-3254-4c0f-8f82-c60a69999620');\n",
              "        const dataTable =\n",
              "          await google.colab.kernel.invokeFunction('convertToInteractive',\n",
              "                                                    [key], {});\n",
              "        if (!dataTable) return;\n",
              "\n",
              "        const docLinkHtml = 'Like what you see? Visit the ' +\n",
              "          '<a target=\"_blank\" href=https://colab.research.google.com/notebooks/data_table.ipynb>data table notebook</a>'\n",
              "          + ' to learn more about interactive tables.';\n",
              "        element.innerHTML = '';\n",
              "        dataTable['output_type'] = 'display_data';\n",
              "        await google.colab.output.renderOutput(dataTable, element);\n",
              "        const docLink = document.createElement('div');\n",
              "        docLink.innerHTML = docLinkHtml;\n",
              "        element.appendChild(docLink);\n",
              "      }\n",
              "    </script>\n",
              "  </div>\n",
              "\n",
              "\n",
              "<div id=\"df-ad3fe20a-f795-4e43-bd02-aeb6b45a0076\">\n",
              "  <button class=\"colab-df-quickchart\" onclick=\"quickchart('df-ad3fe20a-f795-4e43-bd02-aeb6b45a0076')\"\n",
              "            title=\"Suggest charts\"\n",
              "            style=\"display:none;\">\n",
              "\n",
              "<svg xmlns=\"http://www.w3.org/2000/svg\" height=\"24px\"viewBox=\"0 0 24 24\"\n",
              "     width=\"24px\">\n",
              "    <g>\n",
              "        <path d=\"M19 3H5c-1.1 0-2 .9-2 2v14c0 1.1.9 2 2 2h14c1.1 0 2-.9 2-2V5c0-1.1-.9-2-2-2zM9 17H7v-7h2v7zm4 0h-2V7h2v10zm4 0h-2v-4h2v4z\"/>\n",
              "    </g>\n",
              "</svg>\n",
              "  </button>\n",
              "\n",
              "<style>\n",
              "  .colab-df-quickchart {\n",
              "      --bg-color: #E8F0FE;\n",
              "      --fill-color: #1967D2;\n",
              "      --hover-bg-color: #E2EBFA;\n",
              "      --hover-fill-color: #174EA6;\n",
              "      --disabled-fill-color: #AAA;\n",
              "      --disabled-bg-color: #DDD;\n",
              "  }\n",
              "\n",
              "  [theme=dark] .colab-df-quickchart {\n",
              "      --bg-color: #3B4455;\n",
              "      --fill-color: #D2E3FC;\n",
              "      --hover-bg-color: #434B5C;\n",
              "      --hover-fill-color: #FFFFFF;\n",
              "      --disabled-bg-color: #3B4455;\n",
              "      --disabled-fill-color: #666;\n",
              "  }\n",
              "\n",
              "  .colab-df-quickchart {\n",
              "    background-color: var(--bg-color);\n",
              "    border: none;\n",
              "    border-radius: 50%;\n",
              "    cursor: pointer;\n",
              "    display: none;\n",
              "    fill: var(--fill-color);\n",
              "    height: 32px;\n",
              "    padding: 0;\n",
              "    width: 32px;\n",
              "  }\n",
              "\n",
              "  .colab-df-quickchart:hover {\n",
              "    background-color: var(--hover-bg-color);\n",
              "    box-shadow: 0 1px 2px rgba(60, 64, 67, 0.3), 0 1px 3px 1px rgba(60, 64, 67, 0.15);\n",
              "    fill: var(--button-hover-fill-color);\n",
              "  }\n",
              "\n",
              "  .colab-df-quickchart-complete:disabled,\n",
              "  .colab-df-quickchart-complete:disabled:hover {\n",
              "    background-color: var(--disabled-bg-color);\n",
              "    fill: var(--disabled-fill-color);\n",
              "    box-shadow: none;\n",
              "  }\n",
              "\n",
              "  .colab-df-spinner {\n",
              "    border: 2px solid var(--fill-color);\n",
              "    border-color: transparent;\n",
              "    border-bottom-color: var(--fill-color);\n",
              "    animation:\n",
              "      spin 1s steps(1) infinite;\n",
              "  }\n",
              "\n",
              "  @keyframes spin {\n",
              "    0% {\n",
              "      border-color: transparent;\n",
              "      border-bottom-color: var(--fill-color);\n",
              "      border-left-color: var(--fill-color);\n",
              "    }\n",
              "    20% {\n",
              "      border-color: transparent;\n",
              "      border-left-color: var(--fill-color);\n",
              "      border-top-color: var(--fill-color);\n",
              "    }\n",
              "    30% {\n",
              "      border-color: transparent;\n",
              "      border-left-color: var(--fill-color);\n",
              "      border-top-color: var(--fill-color);\n",
              "      border-right-color: var(--fill-color);\n",
              "    }\n",
              "    40% {\n",
              "      border-color: transparent;\n",
              "      border-right-color: var(--fill-color);\n",
              "      border-top-color: var(--fill-color);\n",
              "    }\n",
              "    60% {\n",
              "      border-color: transparent;\n",
              "      border-right-color: var(--fill-color);\n",
              "    }\n",
              "    80% {\n",
              "      border-color: transparent;\n",
              "      border-right-color: var(--fill-color);\n",
              "      border-bottom-color: var(--fill-color);\n",
              "    }\n",
              "    90% {\n",
              "      border-color: transparent;\n",
              "      border-bottom-color: var(--fill-color);\n",
              "    }\n",
              "  }\n",
              "</style>\n",
              "\n",
              "  <script>\n",
              "    async function quickchart(key) {\n",
              "      const quickchartButtonEl =\n",
              "        document.querySelector('#' + key + ' button');\n",
              "      quickchartButtonEl.disabled = true;  // To prevent multiple clicks.\n",
              "      quickchartButtonEl.classList.add('colab-df-spinner');\n",
              "      try {\n",
              "        const charts = await google.colab.kernel.invokeFunction(\n",
              "            'suggestCharts', [key], {});\n",
              "      } catch (error) {\n",
              "        console.error('Error during call to suggestCharts:', error);\n",
              "      }\n",
              "      quickchartButtonEl.classList.remove('colab-df-spinner');\n",
              "      quickchartButtonEl.classList.add('colab-df-quickchart-complete');\n",
              "    }\n",
              "    (() => {\n",
              "      let quickchartButtonEl =\n",
              "        document.querySelector('#df-ad3fe20a-f795-4e43-bd02-aeb6b45a0076 button');\n",
              "      quickchartButtonEl.style.display =\n",
              "        google.colab.kernel.accessAllowed ? 'block' : 'none';\n",
              "    })();\n",
              "  </script>\n",
              "</div>\n",
              "    </div>\n",
              "  </div>\n"
            ]
          },
          "metadata": {},
          "execution_count": 349
        }
      ]
    },
    {
      "cell_type": "code",
      "source": [],
      "metadata": {
        "id": "fX_JqEAq4c0v"
      },
      "execution_count": 349,
      "outputs": []
    },
    {
      "cell_type": "code",
      "source": [
        "(2108 - 1895)/1895"
      ],
      "metadata": {
        "id": "1QNAzTbU4c3Y",
        "outputId": "7136b719-7a2d-48b8-eb40-6f6cc15244b2",
        "colab": {
          "base_uri": "https://localhost:8080/"
        }
      },
      "execution_count": 350,
      "outputs": [
        {
          "output_type": "execute_result",
          "data": {
            "text/plain": [
              "0.11240105540897098"
            ]
          },
          "metadata": {},
          "execution_count": 350
        }
      ]
    },
    {
      "cell_type": "code",
      "source": [
        "round((1895 * (1+0.112401)), 0)"
      ],
      "metadata": {
        "id": "VyqXZbme4c58",
        "outputId": "1b38b51b-5826-4309-8ee0-b0aeff9b737b",
        "colab": {
          "base_uri": "https://localhost:8080/"
        }
      },
      "execution_count": 351,
      "outputs": [
        {
          "output_type": "execute_result",
          "data": {
            "text/plain": [
              "2108.0"
            ]
          },
          "metadata": {},
          "execution_count": 351
        }
      ]
    },
    {
      "cell_type": "code",
      "source": [
        "df['mirror_rate'].plot(kind = 'hist', bins = 20)"
      ],
      "metadata": {
        "id": "S05zj0V-tCrp",
        "outputId": "4025ae0f-4e98-4e4c-cf36-e7377fe68bfd",
        "colab": {
          "base_uri": "https://localhost:8080/",
          "height": 447
        }
      },
      "execution_count": 352,
      "outputs": [
        {
          "output_type": "execute_result",
          "data": {
            "text/plain": [
              "<Axes: ylabel='Frequency'>"
            ]
          },
          "metadata": {},
          "execution_count": 352
        },
        {
          "output_type": "display_data",
          "data": {
            "text/plain": [
              "<Figure size 640x480 with 1 Axes>"
            ],
            "image/png": "[encoded data removed]"
          },
          "metadata": {}
        }
      ]
    },
    {
      "cell_type": "code",
      "source": [],
      "metadata": {
        "id": "WUw5VmEltCu3"
      },
      "execution_count": 352,
      "outputs": []
    },
    {
      "cell_type": "code",
      "source": [],
      "metadata": {
        "id": "XXzxz5CUtCyD"
      },
      "execution_count": 352,
      "outputs": []
    },
    {
      "cell_type": "code",
      "source": [],
      "metadata": {
        "id": "NvO0GHlPtC1I"
      },
      "execution_count": 352,
      "outputs": []
    },
    {
      "cell_type": "code",
      "source": [],
      "metadata": {
        "id": "7NpA-GhgmZVQ"
      },
      "execution_count": 352,
      "outputs": []
    },
    {
      "cell_type": "code",
      "source": [],
      "metadata": {
        "id": "fi8gjusnzkzX"
      },
      "execution_count": 352,
      "outputs": []
    },
    {
      "cell_type": "code",
      "source": [],
      "metadata": {
        "id": "a0qaXow6zk22"
      },
      "execution_count": 352,
      "outputs": []
    },
    {
      "cell_type": "code",
      "source": [],
      "metadata": {
        "id": "aq8DFWAY-qr9"
      },
      "execution_count": 352,
      "outputs": []
    },
    {
      "cell_type": "code",
      "source": [],
      "metadata": {
        "id": "y7HLP8wO-qu-"
      },
      "execution_count": 352,
      "outputs": []
    },
    {
      "cell_type": "code",
      "source": [],
      "metadata": {
        "id": "oEy4lhdT-qzD"
      },
      "execution_count": 352,
      "outputs": []
    }
  ]
}