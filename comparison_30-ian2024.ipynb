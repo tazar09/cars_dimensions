{
  "nbformat": 4,
  "nbformat_minor": 0,
  "metadata": {
    "colab": {
      "provenance": [],
      "toc_visible": true,
      "include_colab_link": true
    },
    "kernelspec": {
      "name": "python3",
      "display_name": "Python 3"
    },
    "language_info": {
      "name": "python"
    }
  },
  "cells": [
    {
      "cell_type": "markdown",
      "metadata": {
        "id": "view-in-github",
        "colab_type": "text"
      },
      "source": [
        "<a href=\"https://colab.research.google.com/github/tazar09/cars_dimensions/blob/main/comparison_30-ian2024.ipynb\" target=\"_parent\"><img src=\"https://colab.research.google.com/assets/colab-badge.svg\" alt=\"Open In Colab\"/></a>"
      ]
    },
    {
      "cell_type": "code",
      "source": [
        "import requests\n",
        "import pandas as pd\n",
        "from bs4 import BeautifulSoup"
      ],
      "metadata": {
        "id": "juJsU9ZssARm"
      },
      "execution_count": 3,
      "outputs": []
    },
    {
      "cell_type": "markdown",
      "source": [
        "# Scrapping the website"
      ],
      "metadata": {
        "id": "a9wLDWO-sSfB"
      }
    },
    {
      "cell_type": "code",
      "source": [
        "url = 'https://www.automobiledimension.com/compact-suv.php'\n",
        "h3 = requests.get(url, verify = False)\n",
        "html_content = h3.text"
      ],
      "metadata": {
        "id": "0K1U87w5nEvE",
        "outputId": "d99cb0ac-16e3-4ff6-e426-2959cf4478e4",
        "colab": {
          "base_uri": "https://localhost:8080/"
        }
      },
      "execution_count": 4,
      "outputs": [
        {
          "output_type": "stream",
          "name": "stderr",
          "text": [
            "/usr/local/lib/python3.10/dist-packages/urllib3/connectionpool.py:1100: InsecureRequestWarning: Unverified HTTPS request is being made to host 'www.automobiledimension.com'. Adding certificate verification is strongly advised. See: https://urllib3.readthedocs.io/en/latest/advanced-usage.html#tls-warnings\n",
            "  warnings.warn(\n"
          ]
        }
      ]
    },
    {
      "cell_type": "markdown",
      "source": [
        "# Creating BeautifulSoup objects"
      ],
      "metadata": {
        "id": "jNGdfajhsY-i"
      }
    },
    {
      "cell_type": "code",
      "source": [
        "soup = BeautifulSoup(html_content, 'html.parser')"
      ],
      "metadata": {
        "id": "amlmY7IPwdd8"
      },
      "execution_count": 5,
      "outputs": []
    },
    {
      "cell_type": "code",
      "source": [
        "main_table = soup.find('main')"
      ],
      "metadata": {
        "id": "fiKHdpESwdjo"
      },
      "execution_count": 6,
      "outputs": []
    },
    {
      "cell_type": "markdown",
      "source": [
        "# Extract model description"
      ],
      "metadata": {
        "id": "FQxngAORxudV"
      }
    },
    {
      "cell_type": "code",
      "source": [
        "temp_list = []\n",
        "for i in main_table('a'):\n",
        "  href = i['href']\n",
        "  if href and href.startswith('/model'):\n",
        "    temp_list.append(href)"
      ],
      "metadata": {
        "id": "PkbWIbxj21fm"
      },
      "execution_count": 16,
      "outputs": []
    },
    {
      "cell_type": "code",
      "source": [
        "weblink = []\n",
        "for i in temp_list:\n",
        "  weblink.append('https://www.automobiledimension.com' + i)"
      ],
      "metadata": {
        "id": "6ToXBSfRxA6Q"
      },
      "execution_count": 19,
      "outputs": []
    },
    {
      "cell_type": "code",
      "source": [
        "models = []\n",
        "for i in weblink:\n",
        "  content = requests.get(i, verify = False)\n",
        "  content_text = BeautifulSoup(content.text, 'html.parser')\n",
        "  interior_text = content_text.find('div', class_ = 'interior-text')\n",
        "  if interior_text:\n",
        "    div_content = interior_text.text\n",
        "    models.append(div_content)\n",
        "  else:\n",
        "    pass"
      ],
      "metadata": {
        "id": "ts31clJZNqNv"
      },
      "execution_count": null,
      "outputs": []
    },
    {
      "cell_type": "code",
      "source": [
        "models[0]"
      ],
      "metadata": {
        "colab": {
          "base_uri": "https://localhost:8080/",
          "height": 70
        },
        "id": "PjjrpRGvOmVc",
        "outputId": "eed54146-055b-4452-a093-f206d368f97c"
      },
      "execution_count": 23,
      "outputs": [
        {
          "output_type": "execute_result",
          "data": {
            "text/plain": [
              "'The Ford Puma has a length of 4207 mm, a height of 1537 mm, a width of 1805 mm without the exterior mirrors and a measurement of 1930 millimeters with the mirrors unfolded. Motorization: petrol and  petrol mild hybrid. The mild hybrid model is called Puma Ecoboost Hybrid and has a boot space of 401* liters. Because of its size, features and ground clearance of 16 cm, we classify the Ford Puma in the category of compact SUV.Do you like the trend of larger cars? 👍 👎'"
            ],
            "application/vnd.google.colaboratory.intrinsic+json": {
              "type": "string"
            }
          },
          "metadata": {},
          "execution_count": 23
        }
      ]
    },
    {
      "cell_type": "markdown",
      "source": [
        "# Extract dimensions"
      ],
      "metadata": {
        "id": "pBN1w4Iex4ka"
      }
    },
    {
      "cell_type": "code",
      "source": [],
      "metadata": {
        "id": "DuXCK_thx4va"
      },
      "execution_count": null,
      "outputs": []
    },
    {
      "cell_type": "code",
      "source": [],
      "metadata": {
        "id": "SigSpwR-x_uT"
      },
      "execution_count": null,
      "outputs": []
    },
    {
      "cell_type": "code",
      "source": [],
      "metadata": {
        "id": "SZDagUYEx_1j"
      },
      "execution_count": null,
      "outputs": []
    },
    {
      "cell_type": "code",
      "source": [],
      "metadata": {
        "id": "u_66VYFyx4yi"
      },
      "execution_count": null,
      "outputs": []
    }
  ]
}